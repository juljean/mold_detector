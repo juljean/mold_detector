{
 "cells": [
  {
   "cell_type": "code",
   "execution_count": 1,
   "id": "64156361",
   "metadata": {},
   "outputs": [],
   "source": [
    "# Import Operating System\n",
    "import os"
   ]
  },
  {
   "cell_type": "code",
   "execution_count": 2,
   "id": "eb89441c",
   "metadata": {},
   "outputs": [
    {
     "name": "stdout",
     "output_type": "stream",
     "text": [
      "Requirement already satisfied: pyqt5 in c:\\users\\nadyu\\pycharmprojects\\mold_detector\\tfod\\lib\\site-packages (5.15.7)\n",
      "Requirement already satisfied: lxml in c:\\users\\nadyu\\pycharmprojects\\mold_detector\\tfod\\lib\\site-packages (4.9.2)\n",
      "Requirement already satisfied: PyQt5-sip<13,>=12.11 in c:\\users\\nadyu\\pycharmprojects\\mold_detector\\tfod\\lib\\site-packages (from pyqt5) (12.11.0)\n",
      "Requirement already satisfied: PyQt5-Qt5>=5.15.0 in c:\\users\\nadyu\\pycharmprojects\\mold_detector\\tfod\\lib\\site-packages (from pyqt5) (5.15.2)\n"
     ]
    }
   ],
   "source": [
    "!pip install --upgrade pyqt5 lxml"
   ]
  },
  {
   "cell_type": "code",
   "execution_count": 3,
   "id": "f5fc93c9",
   "metadata": {},
   "outputs": [],
   "source": [
    "LABELIMG_PATH = os.path.join('Tensorflow', 'labelimg')"
   ]
  },
  {
   "cell_type": "code",
   "execution_count": 4,
   "id": "0932d012",
   "metadata": {},
   "outputs": [],
   "source": [
    "if not os.path.exists(LABELIMG_PATH):\n",
    "    !mkdir {LABELIMG_PATH}\n",
    "    !git clone https://github.com/tzutalin/labelImg {LABELIMG_PATH}"
   ]
  },
  {
   "cell_type": "code",
   "execution_count": 5,
   "id": "ae103922",
   "metadata": {},
   "outputs": [],
   "source": [
    "if os.name == 'posix':\n",
    "    !make qt5py3\n",
    "if os.name =='nt':\n",
    "    !cd {LABELIMG_PATH} && pyrcc5 -o libs/resources.py resources.qrc"
   ]
  },
  {
   "cell_type": "code",
   "execution_count": 6,
   "id": "5089fe6c",
   "metadata": {},
   "outputs": [
    {
     "name": "stdout",
     "output_type": "stream",
     "text": [
      "Image:C:\\Users\\nadyu\\PycharmProjects\\mold_detector\\tfod\\Tensorflow\\workspace\\images\\collectedimages\\Acremonium\\5_acremonium_x.png -> Annotation:C:/Users/nadyu/PycharmProjects/mold_detector/tfod/Tensorflow/workspace/images/collectedimages/Acremonium/5_acremonium_x.xml\n",
      "Image:C:\\Users\\nadyu\\PycharmProjects\\mold_detector\\tfod\\Tensorflow\\workspace\\images\\collectedimages\\Acremonium\\6_acremonium_x.jpg -> Annotation:C:/Users/nadyu/PycharmProjects/mold_detector/tfod/Tensorflow/workspace/images/collectedimages/Acremonium\\6_acremonium_x.xml\n",
      "Image:C:\\Users\\nadyu\\PycharmProjects\\mold_detector\\tfod\\Tensorflow\\workspace\\images\\collectedimages\\Acremonium\\7_acremonium_x.png -> Annotation:C:/Users/nadyu/PycharmProjects/mold_detector/tfod/Tensorflow/workspace/images/collectedimages/Acremonium\\7_acremonium_x.xml\n",
      "Image:C:\\Users\\nadyu\\PycharmProjects\\mold_detector\\tfod\\Tensorflow\\workspace\\images\\collectedimages\\Acremonium\\8_acremonium_x.png -> Annotation:C:/Users/nadyu/PycharmProjects/mold_detector/tfod/Tensorflow/workspace/images/collectedimages/Acremonium\\8_acremonium_x.xml\n",
      "Image:C:\\Users\\nadyu\\PycharmProjects\\mold_detector\\tfod\\Tensorflow\\workspace\\images\\collectedimages\\Acremonium\\9_acremonium_x.png -> Annotation:C:/Users/nadyu/PycharmProjects/mold_detector/tfod/Tensorflow/workspace/images/collectedimages/Acremonium\\9_acremonium_x.xml\n",
      "Image:C:\\Users\\nadyu\\PycharmProjects\\mold_detector\\tfod\\Tensorflow\\workspace\\images\\collectedimages\\Acremonium\\10_acremonium_x.png -> Annotation:C:/Users/nadyu/PycharmProjects/mold_detector/tfod/Tensorflow/workspace/images/collectedimages/Acremonium\\10_acremonium_x.xml\n",
      "Image:C:\\Users\\nadyu\\PycharmProjects\\mold_detector\\tfod\\Tensorflow\\workspace\\images\\collectedimages\\Acremonium\\11_acremonium_x.png -> Annotation:C:/Users/nadyu/PycharmProjects/mold_detector/tfod/Tensorflow/workspace/images/collectedimages/Acremonium\\11_acremonium_x.xml\n",
      "Image:C:\\Users\\nadyu\\PycharmProjects\\mold_detector\\tfod\\Tensorflow\\workspace\\images\\collectedimages\\Acremonium\\12_acremonium_kilinese.png -> Annotation:C:/Users/nadyu/PycharmProjects/mold_detector/tfod/Tensorflow/workspace/images/collectedimages/Acremonium\\12_acremonium_kilinese.xml\n",
      "Image:C:\\Users\\nadyu\\PycharmProjects\\mold_detector\\tfod\\Tensorflow\\workspace\\images\\collectedimages\\Acremonium\\13_acremonium_x.png -> Annotation:C:/Users/nadyu/PycharmProjects/mold_detector/tfod/Tensorflow/workspace/images/collectedimages/Acremonium\\13_acremonium_x.xml\n",
      "Image:C:\\Users\\nadyu\\PycharmProjects\\mold_detector\\tfod\\Tensorflow\\workspace\\images\\collectedimages\\Acremonium\\14_acremonium_x.png -> Annotation:C:/Users/nadyu/PycharmProjects/mold_detector/tfod/Tensorflow/workspace/images/collectedimages/Acremonium\\14_acremonium_x.xml\n",
      "Image:C:\\Users\\nadyu\\PycharmProjects\\mold_detector\\tfod\\Tensorflow\\workspace\\images\\collectedimages\\Acremonium\\15_acremonium_x.png -> Annotation:C:/Users/nadyu/PycharmProjects/mold_detector/tfod/Tensorflow/workspace/images/collectedimages/Acremonium\\15_acremonium_x.xml\n",
      "Image:C:\\Users\\nadyu\\PycharmProjects\\mold_detector\\tfod\\Tensorflow\\workspace\\images\\collectedimages\\Acremonium\\16_acremonium_egyptiacum.jpg.png -> Annotation:C:/Users/nadyu/PycharmProjects/mold_detector/tfod/Tensorflow/workspace/images/collectedimages/Acremonium\\16_acremonium_egyptiacum.jpg.xml\n",
      "Image:C:\\Users\\nadyu\\PycharmProjects\\mold_detector\\tfod\\Tensorflow\\workspace\\images\\collectedimages\\Acremonium\\17_acremonium_falciforme.jpg.png -> Annotation:C:/Users/nadyu/PycharmProjects/mold_detector/tfod/Tensorflow/workspace/images/collectedimages/Acremonium\\17_acremonium_falciforme.jpg.xml\n",
      "Image:C:\\Users\\nadyu\\PycharmProjects\\mold_detector\\tfod\\Tensorflow\\workspace\\images\\collectedimages\\Acremonium\\17_acremonium_x.png -> Annotation:C:/Users/nadyu/PycharmProjects/mold_detector/tfod/Tensorflow/workspace/images/collectedimages/Acremonium\\17_acremonium_x.xml\n",
      "Image:C:\\Users\\nadyu\\PycharmProjects\\mold_detector\\tfod\\Tensorflow\\workspace\\images\\collectedimages\\Acremonium\\18_acremonium_x.png -> Annotation:C:/Users/nadyu/PycharmProjects/mold_detector/tfod/Tensorflow/workspace/images/collectedimages/Acremonium\\18_acremonium_x.xml\n",
      "Image:C:\\Users\\nadyu\\PycharmProjects\\mold_detector\\tfod\\Tensorflow\\workspace\\images\\collectedimages\\Alternaria\\1_alternaria_alternata.png -> Annotation:C:/Users/nadyu/PycharmProjects/mold_detector/tfod/Tensorflow/workspace/images/collectedimages/Alternaria\\1_alternaria_alternata.xml\n",
      "Image:C:\\Users\\nadyu\\PycharmProjects\\mold_detector\\tfod\\Tensorflow\\workspace\\images\\collectedimages\\Alternaria\\2_alternaria_alternata.jpg -> Annotation:C:/Users/nadyu/PycharmProjects/mold_detector/tfod/Tensorflow/workspace/images/collectedimages/Alternaria\\2_alternaria_alternata.xml\n",
      "Image:C:\\Users\\nadyu\\PycharmProjects\\mold_detector\\tfod\\Tensorflow\\workspace\\images\\collectedimages\\Alternaria\\3_alternaria_alternata.jpg -> Annotation:C:/Users/nadyu/PycharmProjects/mold_detector/tfod/Tensorflow/workspace/images/collectedimages/Alternaria\\3_alternaria_alternata.xml\n",
      "Image:C:\\Users\\nadyu\\PycharmProjects\\mold_detector\\tfod\\Tensorflow\\workspace\\images\\collectedimages\\Alternaria\\4_alternaria_x.png -> Annotation:C:/Users/nadyu/PycharmProjects/mold_detector/tfod/Tensorflow/workspace/images/collectedimages/Alternaria\\4_alternaria_x.xml\n",
      "Image:C:\\Users\\nadyu\\PycharmProjects\\mold_detector\\tfod\\Tensorflow\\workspace\\images\\collectedimages\\Alternaria\\5_alternaria_x.png -> Annotation:C:/Users/nadyu/PycharmProjects/mold_detector/tfod/Tensorflow/workspace/images/collectedimages/Alternaria\\5_alternaria_x.xml\n",
      "Image:C:\\Users\\nadyu\\PycharmProjects\\mold_detector\\tfod\\Tensorflow\\workspace\\images\\collectedimages\\Alternaria\\6_alternaria_x.png -> Annotation:C:/Users/nadyu/PycharmProjects/mold_detector/tfod/Tensorflow/workspace/images/collectedimages/Alternaria\\6_alternaria_x.xml\n",
      "Image:C:\\Users\\nadyu\\PycharmProjects\\mold_detector\\tfod\\Tensorflow\\workspace\\images\\collectedimages\\Alternaria\\7_alternaria_x.png -> Annotation:C:/Users/nadyu/PycharmProjects/mold_detector/tfod/Tensorflow/workspace/images/collectedimages/Alternaria\\7_alternaria_x.xml\n",
      "Image:C:\\Users\\nadyu\\PycharmProjects\\mold_detector\\tfod\\Tensorflow\\workspace\\images\\collectedimages\\Alternaria\\8_alternaria_x.png -> Annotation:C:/Users/nadyu/PycharmProjects/mold_detector/tfod/Tensorflow/workspace/images/collectedimages/Alternaria\\8_alternaria_x.xml\n",
      "Image:C:\\Users\\nadyu\\PycharmProjects\\mold_detector\\tfod\\Tensorflow\\workspace\\images\\collectedimages\\Alternaria\\9_alternaria_alternata.png -> Annotation:C:/Users/nadyu/PycharmProjects/mold_detector/tfod/Tensorflow/workspace/images/collectedimages/Alternaria\\9_alternaria_alternata.xml\n",
      "Image:C:\\Users\\nadyu\\PycharmProjects\\mold_detector\\tfod\\Tensorflow\\workspace\\images\\collectedimages\\Alternaria\\10_alternaria_x.png -> Annotation:C:/Users/nadyu/PycharmProjects/mold_detector/tfod/Tensorflow/workspace/images/collectedimages/Alternaria\\10_alternaria_x.xml\n",
      "Image:C:\\Users\\nadyu\\PycharmProjects\\mold_detector\\tfod\\Tensorflow\\workspace\\images\\collectedimages\\Alternaria\\11_alternaria_x.png -> Annotation:C:/Users/nadyu/PycharmProjects/mold_detector/tfod/Tensorflow/workspace/images/collectedimages/Alternaria\\11_alternaria_x.xml\n",
      "Image:C:\\Users\\nadyu\\PycharmProjects\\mold_detector\\tfod\\Tensorflow\\workspace\\images\\collectedimages\\Alternaria\\12_alternaria_x.png -> Annotation:C:/Users/nadyu/PycharmProjects/mold_detector/tfod/Tensorflow/workspace/images/collectedimages/Alternaria\\12_alternaria_x.xml\n",
      "Image:C:\\Users\\nadyu\\PycharmProjects\\mold_detector\\tfod\\Tensorflow\\workspace\\images\\collectedimages\\Alternaria\\13_alternaria_alternata.png -> Annotation:C:/Users/nadyu/PycharmProjects/mold_detector/tfod/Tensorflow/workspace/images/collectedimages/Alternaria\\13_alternaria_alternata.xml\n",
      "Image:C:\\Users\\nadyu\\PycharmProjects\\mold_detector\\tfod\\Tensorflow\\workspace\\images\\collectedimages\\Alternaria\\12_alternaria_x.png -> Annotation:C:/Users/nadyu/PycharmProjects/mold_detector/tfod/Tensorflow/workspace/images/collectedimages/Alternaria\\12_alternaria_x.xml\n",
      "Image:C:\\Users\\nadyu\\PycharmProjects\\mold_detector\\tfod\\Tensorflow\\workspace\\images\\collectedimages\\Alternaria\\11_alternaria_x.png -> Annotation:C:/Users/nadyu/PycharmProjects/mold_detector/tfod/Tensorflow/workspace/images/collectedimages/Alternaria\\11_alternaria_x.xml\n",
      "Image:C:\\Users\\nadyu\\PycharmProjects\\mold_detector\\tfod\\Tensorflow\\workspace\\images\\collectedimages\\Alternaria\\10_alternaria_x.png -> Annotation:C:/Users/nadyu/PycharmProjects/mold_detector/tfod/Tensorflow/workspace/images/collectedimages/Alternaria\\10_alternaria_x.xml\n",
      "Image:C:\\Users\\nadyu\\PycharmProjects\\mold_detector\\tfod\\Tensorflow\\workspace\\images\\collectedimages\\Alternaria\\9_alternaria_alternata.png -> Annotation:C:/Users/nadyu/PycharmProjects/mold_detector/tfod/Tensorflow/workspace/images/collectedimages/Alternaria\\9_alternaria_alternata.xml\n",
      "Image:C:\\Users\\nadyu\\PycharmProjects\\mold_detector\\tfod\\Tensorflow\\workspace\\images\\collectedimages\\Alternaria\\8_alternaria_x.png -> Annotation:C:/Users/nadyu/PycharmProjects/mold_detector/tfod/Tensorflow/workspace/images/collectedimages/Alternaria\\8_alternaria_x.xml\n",
      "Image:C:\\Users\\nadyu\\PycharmProjects\\mold_detector\\tfod\\Tensorflow\\workspace\\images\\collectedimages\\Alternaria\\7_alternaria_x.png -> Annotation:C:/Users/nadyu/PycharmProjects/mold_detector/tfod/Tensorflow/workspace/images/collectedimages/Alternaria\\7_alternaria_x.xml\n",
      "Image:C:\\Users\\nadyu\\PycharmProjects\\mold_detector\\tfod\\Tensorflow\\workspace\\images\\collectedimages\\Alternaria\\6_alternaria_x.png -> Annotation:C:/Users/nadyu/PycharmProjects/mold_detector/tfod/Tensorflow/workspace/images/collectedimages/Alternaria\\6_alternaria_x.xml\n",
      "Image:C:\\Users\\nadyu\\PycharmProjects\\mold_detector\\tfod\\Tensorflow\\workspace\\images\\collectedimages\\Alternaria\\5_alternaria_x.png -> Annotation:C:/Users/nadyu/PycharmProjects/mold_detector/tfod/Tensorflow/workspace/images/collectedimages/Alternaria\\5_alternaria_x.xml\n",
      "Image:C:\\Users\\nadyu\\PycharmProjects\\mold_detector\\tfod\\Tensorflow\\workspace\\images\\collectedimages\\Alternaria\\4_alternaria_x.png -> Annotation:C:/Users/nadyu/PycharmProjects/mold_detector/tfod/Tensorflow/workspace/images/collectedimages/Alternaria\\4_alternaria_x.xml\n",
      "Image:C:\\Users\\nadyu\\PycharmProjects\\mold_detector\\tfod\\Tensorflow\\workspace\\images\\collectedimages\\Alternaria\\3_alternaria_alternata.jpg -> Annotation:C:/Users/nadyu/PycharmProjects/mold_detector/tfod/Tensorflow/workspace/images/collectedimages/Alternaria\\3_alternaria_alternata.xml\n",
      "Image:C:\\Users\\nadyu\\PycharmProjects\\mold_detector\\tfod\\Tensorflow\\workspace\\images\\collectedimages\\Alternaria\\2_alternaria_alternata.jpg -> Annotation:C:/Users/nadyu/PycharmProjects/mold_detector/tfod/Tensorflow/workspace/images/collectedimages/Alternaria\\2_alternaria_alternata.xml\n",
      "Image:C:\\Users\\nadyu\\PycharmProjects\\mold_detector\\tfod\\Tensorflow\\workspace\\images\\collectedimages\\Alternaria\\1_alternaria_alternata.png -> Annotation:C:/Users/nadyu/PycharmProjects/mold_detector/tfod/Tensorflow/workspace/images/collectedimages/Alternaria\\1_alternaria_alternata.xml\n",
      "Image:C:\\Users\\nadyu\\PycharmProjects\\mold_detector\\tfod\\Tensorflow\\workspace\\images\\collectedimages\\Alternaria\\14_alternaria_alternata.png -> Annotation:C:/Users/nadyu/PycharmProjects/mold_detector/tfod/Tensorflow/workspace/images/collectedimages/Alternaria\\14_alternaria_alternata.xml\n",
      "Image:C:\\Users\\nadyu\\PycharmProjects\\mold_detector\\tfod\\Tensorflow\\workspace\\images\\collectedimages\\Alternaria\\15_alternaria_alternata.png -> Annotation:C:/Users/nadyu/PycharmProjects/mold_detector/tfod/Tensorflow/workspace/images/collectedimages/Alternaria\\15_alternaria_alternata.xml\n",
      "Image:C:\\Users\\nadyu\\PycharmProjects\\mold_detector\\tfod\\Tensorflow\\workspace\\images\\collectedimages\\Alternaria\\16_alternaria_x.png -> Annotation:C:/Users/nadyu/PycharmProjects/mold_detector/tfod/Tensorflow/workspace/images/collectedimages/Alternaria\\16_alternaria_x.xml\n",
      "Image:C:\\Users\\nadyu\\PycharmProjects\\mold_detector\\tfod\\Tensorflow\\workspace\\images\\collectedimages\\Alternaria\\17_alternaria_x.jpg -> Annotation:C:/Users/nadyu/PycharmProjects/mold_detector/tfod/Tensorflow/workspace/images/collectedimages/Alternaria\\17_alternaria_x.xml\n",
      "Image:C:\\Users\\nadyu\\PycharmProjects\\mold_detector\\tfod\\Tensorflow\\workspace\\images\\collectedimages\\Alternaria\\18_alternaria_x.png -> Annotation:C:/Users/nadyu/PycharmProjects/mold_detector/tfod/Tensorflow/workspace/images/collectedimages/Alternaria\\18_alternaria_x.xml\n",
      "Image:C:\\Users\\nadyu\\PycharmProjects\\mold_detector\\tfod\\Tensorflow\\workspace\\images\\collectedimages\\Alternaria\\19_alternaria_x.png -> Annotation:C:/Users/nadyu/PycharmProjects/mold_detector/tfod/Tensorflow/workspace/images/collectedimages/Alternaria\\19_alternaria_x.xml\n",
      "Image:C:\\Users\\nadyu\\PycharmProjects\\mold_detector\\tfod\\Tensorflow\\workspace\\images\\collectedimages\\Alternaria\\20_alternaria_x.png -> Annotation:C:/Users/nadyu/PycharmProjects/mold_detector/tfod/Tensorflow/workspace/images/collectedimages/Alternaria\\20_alternaria_x.xml\n",
      "Image:C:\\Users\\nadyu\\PycharmProjects\\mold_detector\\tfod\\Tensorflow\\workspace\\images\\collectedimages\\Aspergillus\\9_aspergillus_x.png -> Annotation:C:/Users/nadyu/PycharmProjects/mold_detector/tfod/Tensorflow/workspace/images/collectedimages/Aspergillus\\9_aspergillus_x.xml\n",
      "Image:C:\\Users\\nadyu\\PycharmProjects\\mold_detector\\tfod\\Tensorflow\\workspace\\images\\collectedimages\\Aspergillus\\10_aspergillus_x.png -> Annotation:C:/Users/nadyu/PycharmProjects/mold_detector/tfod/Tensorflow/workspace/images/collectedimages/Aspergillus\\10_aspergillus_x.xml\n",
      "Image:C:\\Users\\nadyu\\PycharmProjects\\mold_detector\\tfod\\Tensorflow\\workspace\\images\\collectedimages\\Aspergillus\\11_aspergillus_x.png -> Annotation:C:/Users/nadyu/PycharmProjects/mold_detector/tfod/Tensorflow/workspace/images/collectedimages/Aspergillus\\11_aspergillus_x.xml\n",
      "Image:C:\\Users\\nadyu\\PycharmProjects\\mold_detector\\tfod\\Tensorflow\\workspace\\images\\collectedimages\\Aspergillus\\12_aspergillus_x.png -> Annotation:C:/Users/nadyu/PycharmProjects/mold_detector/tfod/Tensorflow/workspace/images/collectedimages/Aspergillus\\12_aspergillus_x.xml\n",
      "Image:C:\\Users\\nadyu\\PycharmProjects\\mold_detector\\tfod\\Tensorflow\\workspace\\images\\collectedimages\\Aspergillus\\13_aspergillus_x.png.png -> Annotation:C:/Users/nadyu/PycharmProjects/mold_detector/tfod/Tensorflow/workspace/images/collectedimages/Aspergillus\\13_aspergillus_x.png.xml\n",
      "Image:C:\\Users\\nadyu\\PycharmProjects\\mold_detector\\tfod\\Tensorflow\\workspace\\images\\collectedimages\\Aspergillus\\14_aspergillus_x.png.png -> Annotation:C:/Users/nadyu/PycharmProjects/mold_detector/tfod/Tensorflow/workspace/images/collectedimages/Aspergillus\\14_aspergillus_x.png.xml\n",
      "Image:C:\\Users\\nadyu\\PycharmProjects\\mold_detector\\tfod\\Tensorflow\\workspace\\images\\collectedimages\\Aspergillus\\15_aspergillus_x.png.png -> Annotation:C:/Users/nadyu/PycharmProjects/mold_detector/tfod/Tensorflow/workspace/images/collectedimages/Aspergillus\\15_aspergillus_x.png.xml\n",
      "Image:C:\\Users\\nadyu\\PycharmProjects\\mold_detector\\tfod\\Tensorflow\\workspace\\images\\collectedimages\\Aspergillus\\16_aspergillus_x.png.png -> Annotation:C:/Users/nadyu/PycharmProjects/mold_detector/tfod/Tensorflow/workspace/images/collectedimages/Aspergillus\\16_aspergillus_x.png.xml\n",
      "Image:C:\\Users\\nadyu\\PycharmProjects\\mold_detector\\tfod\\Tensorflow\\workspace\\images\\collectedimages\\Aspergillus\\17_aspergillus_x.png.png -> Annotation:C:/Users/nadyu/PycharmProjects/mold_detector/tfod/Tensorflow/workspace/images/collectedimages/Aspergillus\\17_aspergillus_x.png.xml\n",
      "Image:C:\\Users\\nadyu\\PycharmProjects\\mold_detector\\tfod\\Tensorflow\\workspace\\images\\collectedimages\\Aspergillus\\18_aspergillus_fumigatus.jpg.png -> Annotation:C:/Users/nadyu/PycharmProjects/mold_detector/tfod/Tensorflow/workspace/images/collectedimages/Aspergillus\\18_aspergillus_fumigatus.jpg.xml\n",
      "Image:C:\\Users\\nadyu\\PycharmProjects\\mold_detector\\tfod\\Tensorflow\\workspace\\images\\collectedimages\\Aspergillus\\19_aspergillus_x.png -> Annotation:C:/Users/nadyu/PycharmProjects/mold_detector/tfod/Tensorflow/workspace/images/collectedimages/Aspergillus\\19_aspergillus_x.xml\n",
      "Image:C:\\Users\\nadyu\\PycharmProjects\\mold_detector\\tfod\\Tensorflow\\workspace\\images\\collectedimages\\Aspergillus\\20_aspergillus_fumigatus.jpg.png -> Annotation:C:/Users/nadyu/PycharmProjects/mold_detector/tfod/Tensorflow/workspace/images/collectedimages/Aspergillus\\20_aspergillus_fumigatus.jpg.xml\n",
      "Image:C:\\Users\\nadyu\\PycharmProjects\\mold_detector\\tfod\\Tensorflow\\workspace\\images\\collectedimages\\Bipolaris\\1_bipolaris_x.png -> Annotation:C:/Users/nadyu/PycharmProjects/mold_detector/tfod/Tensorflow/workspace/images/collectedimages/Bipolaris\\1_bipolaris_x.xml\n",
      "Image:C:\\Users\\nadyu\\PycharmProjects\\mold_detector\\tfod\\Tensorflow\\workspace\\images\\collectedimages\\Bipolaris\\2_bipolaris_x.png -> Annotation:C:/Users/nadyu/PycharmProjects/mold_detector/tfod/Tensorflow/workspace/images/collectedimages/Bipolaris\\2_bipolaris_x.xml\n",
      "Image:C:\\Users\\nadyu\\PycharmProjects\\mold_detector\\tfod\\Tensorflow\\workspace\\images\\collectedimages\\Bipolaris\\3_bipolaris_x.png -> Annotation:C:/Users/nadyu/PycharmProjects/mold_detector/tfod/Tensorflow/workspace/images/collectedimages/Bipolaris\\3_bipolaris_x.xml\n",
      "Image:C:\\Users\\nadyu\\PycharmProjects\\mold_detector\\tfod\\Tensorflow\\workspace\\images\\collectedimages\\Bipolaris\\4_bipolaris_x.png -> Annotation:C:/Users/nadyu/PycharmProjects/mold_detector/tfod/Tensorflow/workspace/images/collectedimages/Bipolaris\\4_bipolaris_x.xml\n",
      "Image:C:\\Users\\nadyu\\PycharmProjects\\mold_detector\\tfod\\Tensorflow\\workspace\\images\\collectedimages\\Bipolaris\\5_bipolaris_x.png -> Annotation:C:/Users/nadyu/PycharmProjects/mold_detector/tfod/Tensorflow/workspace/images/collectedimages/Bipolaris\\5_bipolaris_x.xml\n",
      "Image:C:\\Users\\nadyu\\PycharmProjects\\mold_detector\\tfod\\Tensorflow\\workspace\\images\\collectedimages\\Bipolaris\\6_bipolaris_x.png -> Annotation:C:/Users/nadyu/PycharmProjects/mold_detector/tfod/Tensorflow/workspace/images/collectedimages/Bipolaris\\6_bipolaris_x.xml\n"
     ]
    },
    {
     "name": "stderr",
     "output_type": "stream",
     "text": [
      "qt.gui.icc: fromIccProfile: failed minimal tag size sanity\n",
      "qt.gui.icc: fromIccProfile: failed minimal tag size sanity\n"
     ]
    }
   ],
   "source": [
    "!cd {LABELIMG_PATH} && python labelImg.py"
   ]
  },
  {
   "cell_type": "code",
   "execution_count": null,
   "id": "1b7c3789",
   "metadata": {},
   "outputs": [],
   "source": []
  }
 ],
 "metadata": {
  "kernelspec": {
   "display_name": "tfod",
   "language": "python",
   "name": "tfod"
  },
  "language_info": {
   "codemirror_mode": {
    "name": "ipython",
    "version": 3
   },
   "file_extension": ".py",
   "mimetype": "text/x-python",
   "name": "python",
   "nbconvert_exporter": "python",
   "pygments_lexer": "ipython3",
   "version": "3.9.1"
  }
 },
 "nbformat": 4,
 "nbformat_minor": 5
}
