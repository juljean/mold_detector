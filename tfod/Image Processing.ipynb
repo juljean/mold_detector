{
 "cells": [
  {
   "cell_type": "code",
   "execution_count": 3,
   "id": "64156361",
   "metadata": {},
   "outputs": [],
   "source": [
    "# Import Operating System\n",
    "import os"
   ]
  },
  {
   "cell_type": "code",
   "execution_count": 1,
   "id": "eb89441c",
   "metadata": {},
   "outputs": [
    {
     "name": "stdout",
     "output_type": "stream",
     "text": [
      "Collecting pyqt5\n",
      "  Downloading PyQt5-5.15.7-cp37-abi3-win_amd64.whl (6.8 MB)\n",
      "     ---------------------------------------- 6.8/6.8 MB 1.0 MB/s eta 0:00:00\n",
      "Requirement already satisfied: lxml in c:\\users\\nadyu\\anaconda3\\lib\\site-packages (4.8.0)\n",
      "Collecting lxml\n",
      "  Downloading lxml-4.9.2-cp39-cp39-win_amd64.whl (3.9 MB)\n",
      "     ---------------------------------------- 3.9/3.9 MB 1.7 MB/s eta 0:00:00\n",
      "Collecting PyQt5-Qt5>=5.15.0\n",
      "  Downloading PyQt5_Qt5-5.15.2-py3-none-win_amd64.whl (50.1 MB)\n",
      "     ---------------------------------------- 50.1/50.1 MB 1.2 MB/s eta 0:00:00\n",
      "Collecting PyQt5-sip<13,>=12.11\n",
      "  Downloading PyQt5_sip-12.11.0-cp39-cp39-win_amd64.whl (78 kB)\n",
      "     ---------------------------------------- 78.3/78.3 kB 1.4 MB/s eta 0:00:00\n",
      "Installing collected packages: PyQt5-Qt5, PyQt5-sip, lxml, pyqt5\n",
      "  Attempting uninstall: lxml\n",
      "    Found existing installation: lxml 4.8.0\n",
      "    Uninstalling lxml-4.8.0:\n",
      "      Successfully uninstalled lxml-4.8.0\n",
      "Successfully installed PyQt5-Qt5-5.15.2 PyQt5-sip-12.11.0 lxml-4.9.2 pyqt5-5.15.7\n"
     ]
    },
    {
     "name": "stderr",
     "output_type": "stream",
     "text": [
      "ERROR: pip's dependency resolver does not currently take into account all the packages that are installed. This behaviour is the source of the following dependency conflicts.\n",
      "spyder 5.1.5 requires pyqtwebengine<5.13, which is not installed.\n",
      "spyder 5.1.5 requires pyqt5<5.13, but you have pyqt5 5.15.7 which is incompatible.\n"
     ]
    }
   ],
   "source": [
    "!pip install --upgrade pyqt5 lxml"
   ]
  },
  {
   "cell_type": "code",
   "execution_count": 4,
   "id": "f5fc93c9",
   "metadata": {},
   "outputs": [],
   "source": [
    "LABELIMG_PATH = os.path.join('Tensorflow', 'labelimg')"
   ]
  },
  {
   "cell_type": "code",
   "execution_count": 5,
   "id": "0932d012",
   "metadata": {},
   "outputs": [
    {
     "name": "stderr",
     "output_type": "stream",
     "text": [
      "Cloning into 'Tensorflow\\labelimg'...\n"
     ]
    }
   ],
   "source": [
    "if not os.path.exists(LABELIMG_PATH):\n",
    "    !mkdir {LABELIMG_PATH}\n",
    "    !git clone https://github.com/tzutalin/labelImg {LABELIMG_PATH}"
   ]
  },
  {
   "cell_type": "code",
   "execution_count": 6,
   "id": "ae103922",
   "metadata": {},
   "outputs": [],
   "source": [
    "if os.name == 'posix':\n",
    "    !make qt5py3\n",
    "if os.name =='nt':\n",
    "    !cd {LABELIMG_PATH} && pyrcc5 -o libs/resources.py resources.qrc"
   ]
  },
  {
   "cell_type": "code",
   "execution_count": 7,
   "id": "5089fe6c",
   "metadata": {},
   "outputs": [
    {
     "name": "stdout",
     "output_type": "stream",
     "text": [
      "Image:C:\\Users\\nadyu\\PycharmProjects\\mold_detector\\tfod\\Tensorflow\\workspace\\images\\collectedimages\\Acremonium\\1_acremonium_falciforme.jpg -> Annotation:C:/Users/nadyu/PycharmProjects/mold_detector/tfod/Tensorflow/workspace/images/collectedimages/Acremonium\\1_acremonium_falciforme.xml"
     ]
    },
    {
     "name": "stderr",
     "output_type": "stream",
     "text": [
      "qt.gui.icc: fromIccProfile: failed minimal tag size sanity\n"
     ]
    },
    {
     "name": "stdout",
     "output_type": "stream",
     "text": [
      "\n",
      "Image:C:\\Users\\nadyu\\PycharmProjects\\mold_detector\\tfod\\Tensorflow\\workspace\\images\\collectedimages\\Acremonium\\2_acremonium_x.jpg -> Annotation:C:/Users/nadyu/PycharmProjects/mold_detector/tfod/Tensorflow/workspace/images/collectedimages/Acremonium\\2_acremonium_x.xml\n",
      "Image:C:\\Users\\nadyu\\PycharmProjects\\mold_detector\\tfod\\Tensorflow\\workspace\\images\\collectedimages\\Acremonium\\3_acremonium_x.jpg -> Annotation:C:/Users/nadyu/PycharmProjects/mold_detector/tfod/Tensorflow/workspace/images/collectedimages/Acremonium\\3_acremonium_x.xml\n",
      "Image:C:\\Users\\nadyu\\PycharmProjects\\mold_detector\\tfod\\Tensorflow\\workspace\\images\\collectedimages\\Acremonium\\4_acremonium_agremonis.jpg -> Annotation:C:/Users/nadyu/PycharmProjects/mold_detector/tfod/Tensorflow/workspace/images/collectedimages/Acremonium\\4_acremonium_agremonis.xml\n",
      "Image:C:\\Users\\nadyu\\PycharmProjects\\mold_detector\\tfod\\Tensorflow\\workspace\\images\\collectedimages\\Alternaria\\1_alternaria_alternata.png -> Annotation:C:/Users/nadyu/PycharmProjects/mold_detector/tfod/Tensorflow/workspace/images/collectedimages/Alternaria\\1_alternaria_alternata.xml\n",
      "Image:C:\\Users\\nadyu\\PycharmProjects\\mold_detector\\tfod\\Tensorflow\\workspace\\images\\collectedimages\\Alternaria\\2_alternaria_alternata.jpg -> Annotation:C:/Users/nadyu/PycharmProjects/mold_detector/tfod/Tensorflow/workspace/images/collectedimages/Alternaria\\2_alternaria_alternata.xml\n",
      "Image:C:\\Users\\nadyu\\PycharmProjects\\mold_detector\\tfod\\Tensorflow\\workspace\\images\\collectedimages\\Alternaria\\3_alternaria_alternata.jpg -> Annotation:C:/Users/nadyu/PycharmProjects/mold_detector/tfod/Tensorflow/workspace/images/collectedimages/Alternaria\\3_alternaria_alternata.xml\n",
      "Image:C:\\Users\\nadyu\\PycharmProjects\\mold_detector\\tfod\\Tensorflow\\workspace\\images\\collectedimages\\Aspergillus\\1_aspergillus_fumigatus.jpg -> Annotation:C:/Users/nadyu/PycharmProjects/mold_detector/tfod/Tensorflow/workspace/images/collectedimages/Aspergillus\\1_aspergillus_fumigatus.xml\n",
      "Image:C:\\Users\\nadyu\\PycharmProjects\\mold_detector\\tfod\\Tensorflow\\workspace\\images\\collectedimages\\Aspergillus\\2_aspergillus_fumigatus.jpg -> Annotation:C:/Users/nadyu/PycharmProjects/mold_detector/tfod/Tensorflow/workspace/images/collectedimages/Aspergillus\\2_aspergillus_fumigatus.xml\n",
      "Image:C:\\Users\\nadyu\\PycharmProjects\\mold_detector\\tfod\\Tensorflow\\workspace\\images\\collectedimages\\Aspergillus\\3_aspergillus_fumigatus.jpg -> Annotation:C:/Users/nadyu/PycharmProjects/mold_detector/tfod/Tensorflow/workspace/images/collectedimages/Aspergillus\\3_aspergillus_fumigatus.xml\n",
      "Image:C:\\Users\\nadyu\\PycharmProjects\\mold_detector\\tfod\\Tensorflow\\workspace\\images\\collectedimages\\Aspergillus\\4_aspergillus_fumigatus.jpg -> Annotation:C:/Users/nadyu/PycharmProjects/mold_detector/tfod/Tensorflow/workspace/images/collectedimages/Aspergillus\\4_aspergillus_fumigatus.xml\n",
      "Image:C:\\Users\\nadyu\\PycharmProjects\\mold_detector\\tfod\\Tensorflow\\workspace\\images\\collectedimages\\Aspergillus\\5_aspergillus_fumigatus.jpg -> Annotation:C:/Users/nadyu/PycharmProjects/mold_detector/tfod/Tensorflow/workspace/images/collectedimages/Aspergillus\\5_aspergillus_fumigatus.xml\n",
      "Image:C:\\Users\\nadyu\\PycharmProjects\\mold_detector\\tfod\\Tensorflow\\workspace\\images\\collectedimages\\Aspergillus\\6_aspergillus_niger .jpg -> Annotation:C:/Users/nadyu/PycharmProjects/mold_detector/tfod/Tensorflow/workspace/images/collectedimages/Aspergillus\\6_aspergillus_niger .xml\n",
      "Image:C:\\Users\\nadyu\\PycharmProjects\\mold_detector\\tfod\\Tensorflow\\workspace\\images\\collectedimages\\Aspergillus\\7_aspergillus_niger .jpg -> Annotation:C:/Users/nadyu/PycharmProjects/mold_detector/tfod/Tensorflow/workspace/images/collectedimages/Aspergillus\\7_aspergillus_niger .xml\n",
      "Image:C:\\Users\\nadyu\\PycharmProjects\\mold_detector\\tfod\\Tensorflow\\workspace\\images\\collectedimages\\Aspergillus\\8_aspergillus_niger .jpg -> Annotation:C:/Users/nadyu/PycharmProjects/mold_detector/tfod/Tensorflow/workspace/images/collectedimages/Aspergillus\\8_aspergillus_niger .xml\n",
      "Image:C:\\Users\\nadyu\\PycharmProjects\\mold_detector\\tfod\\Tensorflow\\workspace\\images\\collectedimages\\Cladosporium\\1_Cladosporium_sphaerospermum.jpg -> Annotation:C:/Users/nadyu/PycharmProjects/mold_detector/tfod/Tensorflow/workspace/images/collectedimages/Cladosporium\\1_Cladosporium_sphaerospermum.xml\n",
      "Image:C:\\Users\\nadyu\\PycharmProjects\\mold_detector\\tfod\\Tensorflow\\workspace\\images\\collectedimages\\Cladosporium\\2_Cladosporium_x.jpg -> Annotation:C:/Users/nadyu/PycharmProjects/mold_detector/tfod/Tensorflow/workspace/images/collectedimages/Cladosporium\\2_Cladosporium_x.xml\n",
      "Image:C:\\Users\\nadyu\\PycharmProjects\\mold_detector\\tfod\\Tensorflow\\workspace\\images\\collectedimages\\Cladosporium\\3_Cladosporium_x.jpg -> Annotation:C:/Users/nadyu/PycharmProjects/mold_detector/tfod/Tensorflow/workspace/images/collectedimages/Cladosporium\\3_Cladosporium_x.xml\n",
      "Cancel creation.\n",
      "Image:C:\\Users\\nadyu\\PycharmProjects\\mold_detector\\tfod\\Tensorflow\\workspace\\images\\collectedimages\\Cladosporium\\4_Cladosporium_x.jpg -> Annotation:C:/Users/nadyu/PycharmProjects/mold_detector/tfod/Tensorflow/workspace/images/collectedimages/Cladosporium\\4_Cladosporium_x.xml\n",
      "Image:C:\\Users\\nadyu\\PycharmProjects\\mold_detector\\tfod\\Tensorflow\\workspace\\images\\collectedimages\\Cladosporium\\5_Cladosporium_x.jpg -> Annotation:C:/Users/nadyu/PycharmProjects/mold_detector/tfod/Tensorflow/workspace/images/collectedimages/Cladosporium\\5_Cladosporium_x.xml\n",
      "Image:C:\\Users\\nadyu\\PycharmProjects\\mold_detector\\tfod\\Tensorflow\\workspace\\images\\collectedimages\\Cladosporium\\6_Cladosporium_x.jpg -> Annotation:C:/Users/nadyu/PycharmProjects/mold_detector/tfod/Tensorflow/workspace/images/collectedimages/Cladosporium\\6_Cladosporium_x.xml\n",
      "Image:C:\\Users\\nadyu\\PycharmProjects\\mold_detector\\tfod\\Tensorflow\\workspace\\images\\collectedimages\\Cladosporium\\7_Cladosporium_herbarum.jpg -> Annotation:C:/Users/nadyu/PycharmProjects/mold_detector/tfod/Tensorflow/workspace/images/collectedimages/Cladosporium\\7_Cladosporium_herbarum.xml\n",
      "Image:C:\\Users\\nadyu\\PycharmProjects\\mold_detector\\tfod\\Tensorflow\\workspace\\images\\collectedimages\\Cladosporium\\8_Cladosporium_x.jpg -> Annotation:C:/Users/nadyu/PycharmProjects/mold_detector/tfod/Tensorflow/workspace/images/collectedimages/Cladosporium\\8_Cladosporium_x.xml\n",
      "Image:C:\\Users\\nadyu\\PycharmProjects\\mold_detector\\tfod\\Tensorflow\\workspace\\images\\collectedimages\\Cladosporium\\9_Cladosporium_x.jpg -> Annotation:C:/Users/nadyu/PycharmProjects/mold_detector/tfod/Tensorflow/workspace/images/collectedimages/Cladosporium\\9_Cladosporium_x.xml\n",
      "Image:C:\\Users\\nadyu\\PycharmProjects\\mold_detector\\tfod\\Tensorflow\\workspace\\images\\collectedimages\\Cladosporium\\10_Cladosporium_x.jpg -> Annotation:C:/Users/nadyu/PycharmProjects/mold_detector/tfod/Tensorflow/workspace/images/collectedimages/Cladosporium\\10_Cladosporium_x.xml\n",
      "Image:C:\\Users\\nadyu\\PycharmProjects\\mold_detector\\tfod\\Tensorflow\\workspace\\images\\collectedimages\\Cladosporium\\11_Cladosporium_x.jpg -> Annotation:C:/Users/nadyu/PycharmProjects/mold_detector/tfod/Tensorflow/workspace/images/collectedimages/Cladosporium\\11_Cladosporium_x.xml\n",
      "Image:C:\\Users\\nadyu\\PycharmProjects\\mold_detector\\tfod\\Tensorflow\\workspace\\images\\collectedimages\\Cladosporium\\12_Cladosporium_x.jpg -> Annotation:C:/Users/nadyu/PycharmProjects/mold_detector/tfod/Tensorflow/workspace/images/collectedimages/Cladosporium\\12_Cladosporium_x.xml\n",
      "Image:C:\\Users\\nadyu\\PycharmProjects\\mold_detector\\tfod\\Tensorflow\\workspace\\images\\collectedimages\\Cladosporium\\13_Cladosporium_x.jpg -> Annotation:C:/Users/nadyu/PycharmProjects/mold_detector/tfod/Tensorflow/workspace/images/collectedimages/Cladosporium\\13_Cladosporium_x.xml\n",
      "Image:C:\\Users\\nadyu\\PycharmProjects\\mold_detector\\tfod\\Tensorflow\\workspace\\images\\collectedimages\\Cladosporium\\14_Cladosporium_x.jpg -> Annotation:C:/Users/nadyu/PycharmProjects/mold_detector/tfod/Tensorflow/workspace/images/collectedimages/Cladosporium\\14_Cladosporium_x.xml\n",
      "Image:C:\\Users\\nadyu\\PycharmProjects\\mold_detector\\tfod\\Tensorflow\\workspace\\images\\collectedimages\\Cladosporium\\15_Cladosporium_x.jpg -> Annotation:C:/Users/nadyu/PycharmProjects/mold_detector/tfod/Tensorflow/workspace/images/collectedimages/Cladosporium\\15_Cladosporium_x.xml\n",
      "Image:C:\\Users\\nadyu\\PycharmProjects\\mold_detector\\tfod\\Tensorflow\\workspace\\images\\collectedimages\\Cladosporium\\16_Cladosporium_fulvum.jpg -> Annotation:C:/Users/nadyu/PycharmProjects/mold_detector/tfod/Tensorflow/workspace/images/collectedimages/Cladosporium\\16_Cladosporium_fulvum.xml\n",
      "Image:C:\\Users\\nadyu\\PycharmProjects\\mold_detector\\tfod\\Tensorflow\\workspace\\images\\collectedimages\\Cladosporium\\17_Cladosporium_fulvum.jpg -> Annotation:C:/Users/nadyu/PycharmProjects/mold_detector/tfod/Tensorflow/workspace/images/collectedimages/Cladosporium\\17_Cladosporium_fulvum.xml\n",
      "Image:C:\\Users\\nadyu\\PycharmProjects\\mold_detector\\tfod\\Tensorflow\\workspace\\images\\collectedimages\\Cladosporium\\18_Cladosporium_x.png -> Annotation:C:/Users/nadyu/PycharmProjects/mold_detector/tfod/Tensorflow/workspace/images/collectedimages/Cladosporium\\18_Cladosporium_x.xml\n",
      "Image:C:\\Users\\nadyu\\PycharmProjects\\mold_detector\\tfod\\Tensorflow\\workspace\\images\\collectedimages\\Cladosporium\\19_Cladosporium_x.png -> Annotation:C:/Users/nadyu/PycharmProjects/mold_detector/tfod/Tensorflow/workspace/images/collectedimages/Cladosporium\\19_Cladosporium_x.xml\n",
      "Image:C:\\Users\\nadyu\\PycharmProjects\\mold_detector\\tfod\\Tensorflow\\workspace\\images\\collectedimages\\Cladosporium\\20_Cladosporium_x.png -> Annotation:C:/Users/nadyu/PycharmProjects/mold_detector/tfod/Tensorflow/workspace/images/collectedimages/Cladosporium\\20_Cladosporium_x.xml\n",
      "Image:C:\\Users\\nadyu\\PycharmProjects\\mold_detector\\tfod\\Tensorflow\\workspace\\images\\collectedimages\\Fusarium\\1_fusarium_poae.jpg -> Annotation:C:/Users/nadyu/PycharmProjects/mold_detector/tfod/Tensorflow/workspace/images/collectedimages/Fusarium\\1_fusarium_poae.xml\n",
      "Image:C:\\Users\\nadyu\\PycharmProjects\\mold_detector\\tfod\\Tensorflow\\workspace\\images\\collectedimages\\Fusarium\\2_fusarium_oxyporum.jpg -> Annotation:C:/Users/nadyu/PycharmProjects/mold_detector/tfod/Tensorflow/workspace/images/collectedimages/Fusarium\\2_fusarium_oxyporum.xml\n",
      "Image:C:\\Users\\nadyu\\PycharmProjects\\mold_detector\\tfod\\Tensorflow\\workspace\\images\\collectedimages\\Fusarium\\3_fusarium_oxyporum.jpg -> Annotation:C:/Users/nadyu/PycharmProjects/mold_detector/tfod/Tensorflow/workspace/images/collectedimages/Fusarium\\3_fusarium_oxyporum.xml\n",
      "Image:C:\\Users\\nadyu\\PycharmProjects\\mold_detector\\tfod\\Tensorflow\\workspace\\images\\collectedimages\\Fusarium\\4_fusarium_x.jpg -> Annotation:C:/Users/nadyu/PycharmProjects/mold_detector/tfod/Tensorflow/workspace/images/collectedimages/Fusarium\\4_fusarium_x.xml\n",
      "Image:C:\\Users\\nadyu\\PycharmProjects\\mold_detector\\tfod\\Tensorflow\\workspace\\images\\collectedimages\\Fusarium\\4_fusarium_x.jpg -> Annotation:C:/Users/nadyu/PycharmProjects/mold_detector/tfod/Tensorflow/workspace/images/collectedimages/Fusarium\\4_fusarium_x.xml\n",
      "Image:C:\\Users\\nadyu\\PycharmProjects\\mold_detector\\tfod\\Tensorflow\\workspace\\images\\collectedimages\\Fusarium\\3_fusarium_oxyporum.jpg -> Annotation:C:/Users/nadyu/PycharmProjects/mold_detector/tfod/Tensorflow/workspace/images/collectedimages/Fusarium\\3_fusarium_oxyporum.xml\n",
      "Image:C:\\Users\\nadyu\\PycharmProjects\\mold_detector\\tfod\\Tensorflow\\workspace\\images\\collectedimages\\Fusarium\\2_fusarium_oxyporum.jpg -> Annotation:C:/Users/nadyu/PycharmProjects/mold_detector/tfod/Tensorflow/workspace/images/collectedimages/Fusarium\\2_fusarium_oxyporum.xml\n",
      "Image:C:\\Users\\nadyu\\PycharmProjects\\mold_detector\\tfod\\Tensorflow\\workspace\\images\\collectedimages\\Fusarium\\1_fusarium_poae.jpg -> Annotation:C:/Users/nadyu/PycharmProjects/mold_detector/tfod/Tensorflow/workspace/images/collectedimages/Fusarium\\1_fusarium_poae.xml\n",
      "Image:C:\\Users\\nadyu\\PycharmProjects\\mold_detector\\tfod\\Tensorflow\\workspace\\images\\collectedimages\\Fusarium\\5_fusarium_x.jpg -> Annotation:C:/Users/nadyu/PycharmProjects/mold_detector/tfod/Tensorflow/workspace/images/collectedimages/Fusarium\\5_fusarium_x.xml\n",
      "Image:C:\\Users\\nadyu\\PycharmProjects\\mold_detector\\tfod\\Tensorflow\\workspace\\images\\collectedimages\\Fusarium\\6_fusarium_x.jpg -> Annotation:C:/Users/nadyu/PycharmProjects/mold_detector/tfod/Tensorflow/workspace/images/collectedimages/Fusarium\\6_fusarium_x.xml\n",
      "Image:C:\\Users\\nadyu\\PycharmProjects\\mold_detector\\tfod\\Tensorflow\\workspace\\images\\collectedimages\\Fusarium\\7_fusarium_x.jpg -> Annotation:C:/Users/nadyu/PycharmProjects/mold_detector/tfod/Tensorflow/workspace/images/collectedimages/Fusarium\\7_fusarium_x.xml\n",
      "Image:C:\\Users\\nadyu\\PycharmProjects\\mold_detector\\tfod\\Tensorflow\\workspace\\images\\collectedimages\\Fusarium\\8_fusarium_x.jpg -> Annotation:C:/Users/nadyu/PycharmProjects/mold_detector/tfod/Tensorflow/workspace/images/collectedimages/Fusarium\\8_fusarium_x.xml\n",
      "Image:C:\\Users\\nadyu\\PycharmProjects\\mold_detector\\tfod\\Tensorflow\\workspace\\images\\collectedimages\\Fusarium\\9_fusarium_x.jpg -> Annotation:C:/Users/nadyu/PycharmProjects/mold_detector/tfod/Tensorflow/workspace/images/collectedimages/Fusarium\\9_fusarium_x.xml\n",
      "Image:C:\\Users\\nadyu\\PycharmProjects\\mold_detector\\tfod\\Tensorflow\\workspace\\images\\collectedimages\\Fusarium\\10_fusarium_oxyporum.jpg -> Annotation:C:/Users/nadyu/PycharmProjects/mold_detector/tfod/Tensorflow/workspace/images/collectedimages/Fusarium\\10_fusarium_oxyporum.xml\n",
      "Image:C:\\Users\\nadyu\\PycharmProjects\\mold_detector\\tfod\\Tensorflow\\workspace\\images\\collectedimages\\Fusarium\\11_fusarium_venenatum.jpg -> Annotation:C:/Users/nadyu/PycharmProjects/mold_detector/tfod/Tensorflow/workspace/images/collectedimages/Fusarium\\11_fusarium_venenatum.xml\n",
      "Image:C:\\Users\\nadyu\\PycharmProjects\\mold_detector\\tfod\\Tensorflow\\workspace\\images\\collectedimages\\Fusarium\\12_fusarium_solani.jpg -> Annotation:C:/Users/nadyu/PycharmProjects/mold_detector/tfod/Tensorflow/workspace/images/collectedimages/Fusarium\\12_fusarium_solani.xml\n",
      "Image:C:\\Users\\nadyu\\PycharmProjects\\mold_detector\\tfod\\Tensorflow\\workspace\\images\\collectedimages\\Fusarium\\13_fusarium_x.jpg -> Annotation:C:/Users/nadyu/PycharmProjects/mold_detector/tfod/Tensorflow/workspace/images/collectedimages/Fusarium\\13_fusarium_x.xml\n",
      "Image:C:\\Users\\nadyu\\PycharmProjects\\mold_detector\\tfod\\Tensorflow\\workspace\\images\\collectedimages\\Fusarium\\14_fusarium_chlamydospores.jpg -> Annotation:C:/Users/nadyu/PycharmProjects/mold_detector/tfod/Tensorflow/workspace/images/collectedimages/Fusarium\\14_fusarium_chlamydospores.xml\n",
      "Image:C:\\Users\\nadyu\\PycharmProjects\\mold_detector\\tfod\\Tensorflow\\workspace\\images\\collectedimages\\Fusarium\\15_fusarium_x.jpg -> Annotation:C:/Users/nadyu/PycharmProjects/mold_detector/tfod/Tensorflow/workspace/images/collectedimages/Fusarium\\15_fusarium_x.xml\n",
      "Image:C:\\Users\\nadyu\\PycharmProjects\\mold_detector\\tfod\\Tensorflow\\workspace\\images\\collectedimages\\Fusarium\\16_fusarium_x.jpg -> Annotation:C:/Users/nadyu/PycharmProjects/mold_detector/tfod/Tensorflow/workspace/images/collectedimages/Fusarium\\16_fusarium_x.xml\n",
      "Image:C:\\Users\\nadyu\\PycharmProjects\\mold_detector\\tfod\\Tensorflow\\workspace\\images\\collectedimages\\Fusarium\\17_fusarium_x.jpg -> Annotation:C:/Users/nadyu/PycharmProjects/mold_detector/tfod/Tensorflow/workspace/images/collectedimages/Fusarium\\17_fusarium_x.xml\n",
      "Image:C:\\Users\\nadyu\\PycharmProjects\\mold_detector\\tfod\\Tensorflow\\workspace\\images\\collectedimages\\Fusarium\\18_fusarium_x.jpg -> Annotation:C:/Users/nadyu/PycharmProjects/mold_detector/tfod/Tensorflow/workspace/images/collectedimages/Fusarium\\18_fusarium_x.xml\n",
      "Image:C:\\Users\\nadyu\\PycharmProjects\\mold_detector\\tfod\\Tensorflow\\workspace\\images\\collectedimages\\Fusarium\\19_fusarium_x.jpg -> Annotation:C:/Users/nadyu/PycharmProjects/mold_detector/tfod/Tensorflow/workspace/images/collectedimages/Fusarium\\19_fusarium_x.xml\n",
      "Image:C:\\Users\\nadyu\\PycharmProjects\\mold_detector\\tfod\\Tensorflow\\workspace\\images\\collectedimages\\Fusarium\\20_fusarium_x.jpg -> Annotation:C:/Users/nadyu/PycharmProjects/mold_detector/tfod/Tensorflow/workspace/images/collectedimages/Fusarium\\20_fusarium_x.xml\n",
      "Image:C:\\Users\\nadyu\\PycharmProjects\\mold_detector\\tfod\\Tensorflow\\workspace\\images\\collectedimages\\Mucor\\1_mucor_mucedo.jpg -> Annotation:C:/Users/nadyu/PycharmProjects/mold_detector/tfod/Tensorflow/workspace/images/collectedimages/Mucor\\1_mucor_mucedo.xml\n",
      "Image:C:\\Users\\nadyu\\PycharmProjects\\mold_detector\\tfod\\Tensorflow\\workspace\\images\\collectedimages\\Mucor\\2_mucor_x.jpg -> Annotation:C:/Users/nadyu/PycharmProjects/mold_detector/tfod/Tensorflow/workspace/images/collectedimages/Mucor\\2_mucor_x.xml\n",
      "Image:C:\\Users\\nadyu\\PycharmProjects\\mold_detector\\tfod\\Tensorflow\\workspace\\images\\collectedimages\\Mucor\\1_mucor_mucedo.jpg -> Annotation:C:/Users/nadyu/PycharmProjects/mold_detector/tfod/Tensorflow/workspace/images/collectedimages/Mucor\\1_mucor_mucedo.xml\n",
      "Image:C:\\Users\\nadyu\\PycharmProjects\\mold_detector\\tfod\\Tensorflow\\workspace\\images\\collectedimages\\Mucor\\3_mucor_x.jpg -> Annotation:C:/Users/nadyu/PycharmProjects/mold_detector/tfod/Tensorflow/workspace/images/collectedimages/Mucor\\3_mucor_x.xml\n",
      "Image:C:\\Users\\nadyu\\PycharmProjects\\mold_detector\\tfod\\Tensorflow\\workspace\\images\\collectedimages\\Mucor\\4_mucor_x.jpg -> Annotation:C:/Users/nadyu/PycharmProjects/mold_detector/tfod/Tensorflow/workspace/images/collectedimages/Mucor\\4_mucor_x.xml\n",
      "Image:C:\\Users\\nadyu\\PycharmProjects\\mold_detector\\tfod\\Tensorflow\\workspace\\images\\collectedimages\\Mucor\\5_mucor_x.jpg -> Annotation:C:/Users/nadyu/PycharmProjects/mold_detector/tfod/Tensorflow/workspace/images/collectedimages/Mucor\\5_mucor_x.xml\n",
      "Image:C:\\Users\\nadyu\\PycharmProjects\\mold_detector\\tfod\\Tensorflow\\workspace\\images\\collectedimages\\Mucor\\6_mucor_x.jpg -> Annotation:C:/Users/nadyu/PycharmProjects/mold_detector/tfod/Tensorflow/workspace/images/collectedimages/Mucor\\6_mucor_x.xml\n",
      "Image:C:\\Users\\nadyu\\PycharmProjects\\mold_detector\\tfod\\Tensorflow\\workspace\\images\\collectedimages\\Mucor\\7_mucor_x.jpg -> Annotation:C:/Users/nadyu/PycharmProjects/mold_detector/tfod/Tensorflow/workspace/images/collectedimages/Mucor\\7_mucor_x.xml\n",
      "Image:C:\\Users\\nadyu\\PycharmProjects\\mold_detector\\tfod\\Tensorflow\\workspace\\images\\collectedimages\\Mucor\\8_mucor_x.jpg -> Annotation:C:/Users/nadyu/PycharmProjects/mold_detector/tfod/Tensorflow/workspace/images/collectedimages/Mucor\\8_mucor_x.xml\n",
      "Image:C:\\Users\\nadyu\\PycharmProjects\\mold_detector\\tfod\\Tensorflow\\workspace\\images\\collectedimages\\Mucor\\9_mucor_x.jpg -> Annotation:C:/Users/nadyu/PycharmProjects/mold_detector/tfod/Tensorflow/workspace/images/collectedimages/Mucor\\9_mucor_x.xml\n",
      "Image:C:\\Users\\nadyu\\PycharmProjects\\mold_detector\\tfod\\Tensorflow\\workspace\\images\\collectedimages\\Mucor\\10_mucor_x.jpg -> Annotation:C:/Users/nadyu/PycharmProjects/mold_detector/tfod/Tensorflow/workspace/images/collectedimages/Mucor\\10_mucor_x.xml\n",
      "Image:C:\\Users\\nadyu\\PycharmProjects\\mold_detector\\tfod\\Tensorflow\\workspace\\images\\collectedimages\\Mucor\\11_mucor_x.jpg -> Annotation:C:/Users/nadyu/PycharmProjects/mold_detector/tfod/Tensorflow/workspace/images/collectedimages/Mucor\\11_mucor_x.xml\n",
      "Image:C:\\Users\\nadyu\\PycharmProjects\\mold_detector\\tfod\\Tensorflow\\workspace\\images\\collectedimages\\Mucor\\12_mucor_x.jpg -> Annotation:C:/Users/nadyu/PycharmProjects/mold_detector/tfod/Tensorflow/workspace/images/collectedimages/Mucor\\12_mucor_x.xml\n",
      "Image:C:\\Users\\nadyu\\PycharmProjects\\mold_detector\\tfod\\Tensorflow\\workspace\\images\\collectedimages\\Mucor\\13_mucor_x.jpg -> Annotation:C:/Users/nadyu/PycharmProjects/mold_detector/tfod/Tensorflow/workspace/images/collectedimages/Mucor\\13_mucor_x.xml\n",
      "Image:C:\\Users\\nadyu\\PycharmProjects\\mold_detector\\tfod\\Tensorflow\\workspace\\images\\collectedimages\\Mucor\\14_mucor_x.jpg -> Annotation:C:/Users/nadyu/PycharmProjects/mold_detector/tfod/Tensorflow/workspace/images/collectedimages/Mucor\\14_mucor_x.xml\n",
      "Image:C:\\Users\\nadyu\\PycharmProjects\\mold_detector\\tfod\\Tensorflow\\workspace\\images\\collectedimages\\Mucor\\15_mucor_x.jpg -> Annotation:C:/Users/nadyu/PycharmProjects/mold_detector/tfod/Tensorflow/workspace/images/collectedimages/Mucor\\15_mucor_x.xml\n",
      "Image:C:\\Users\\nadyu\\PycharmProjects\\mold_detector\\tfod\\Tensorflow\\workspace\\images\\collectedimages\\Mucor\\16_mucor_x.jpg -> Annotation:C:/Users/nadyu/PycharmProjects/mold_detector/tfod/Tensorflow/workspace/images/collectedimages/Mucor\\16_mucor_x.xml\n",
      "Image:C:\\Users\\nadyu\\PycharmProjects\\mold_detector\\tfod\\Tensorflow\\workspace\\images\\collectedimages\\Mucor\\17_mucor_x.jpg -> Annotation:C:/Users/nadyu/PycharmProjects/mold_detector/tfod/Tensorflow/workspace/images/collectedimages/Mucor\\17_mucor_x.xml\n",
      "Image:C:\\Users\\nadyu\\PycharmProjects\\mold_detector\\tfod\\Tensorflow\\workspace\\images\\collectedimages\\Mucor\\18_mucor_x.jpg -> Annotation:C:/Users/nadyu/PycharmProjects/mold_detector/tfod/Tensorflow/workspace/images/collectedimages/Mucor\\18_mucor_x.xml\n",
      "Image:C:\\Users\\nadyu\\PycharmProjects\\mold_detector\\tfod\\Tensorflow\\workspace\\images\\collectedimages\\Mucor\\19_mucor_x.jpg -> Annotation:C:/Users/nadyu/PycharmProjects/mold_detector/tfod/Tensorflow/workspace/images/collectedimages/Mucor\\19_mucor_x.xml\n",
      "Image:C:\\Users\\nadyu\\PycharmProjects\\mold_detector\\tfod\\Tensorflow\\workspace\\images\\collectedimages\\Mucor\\20_mucor_x.jpg -> Annotation:C:/Users/nadyu/PycharmProjects/mold_detector/tfod/Tensorflow/workspace/images/collectedimages/Mucor\\20_mucor_x.xml\n",
      "Image:C:\\Users\\nadyu\\PycharmProjects\\mold_detector\\tfod\\Tensorflow\\workspace\\images\\collectedimages\\Penicillium\\1_penicillium_glandicola.jpg -> Annotation:C:/Users/nadyu/PycharmProjects/mold_detector/tfod/Tensorflow/workspace/images/collectedimages/Penicillium\\1_penicillium_glandicola.xml\n",
      "Image:C:\\Users\\nadyu\\PycharmProjects\\mold_detector\\tfod\\Tensorflow\\workspace\\images\\collectedimages\\Penicillium\\2_penicillium_chrysogenum.jpg -> Annotation:C:/Users/nadyu/PycharmProjects/mold_detector/tfod/Tensorflow/workspace/images/collectedimages/Penicillium\\2_penicillium_chrysogenum.xml\n",
      "Image:C:\\Users\\nadyu\\PycharmProjects\\mold_detector\\tfod\\Tensorflow\\workspace\\images\\collectedimages\\Penicillium\\3_penicillium_chrysogenum.jpg -> Annotation:C:/Users/nadyu/PycharmProjects/mold_detector/tfod/Tensorflow/workspace/images/collectedimages/Penicillium\\3_penicillium_chrysogenum.xml\n",
      "Image:C:\\Users\\nadyu\\PycharmProjects\\mold_detector\\tfod\\Tensorflow\\workspace\\images\\collectedimages\\Penicillium\\4_penicillium_x.jpg -> Annotation:C:/Users/nadyu/PycharmProjects/mold_detector/tfod/Tensorflow/workspace/images/collectedimages/Penicillium\\4_penicillium_x.xml\n",
      "Image:C:\\Users\\nadyu\\PycharmProjects\\mold_detector\\tfod\\Tensorflow\\workspace\\images\\collectedimages\\Penicillium\\5_penicillium_italicum.jpg -> Annotation:C:/Users/nadyu/PycharmProjects/mold_detector/tfod/Tensorflow/workspace/images/collectedimages/Penicillium\\5_penicillium_italicum.xml\n",
      "Image:C:\\Users\\nadyu\\PycharmProjects\\mold_detector\\tfod\\Tensorflow\\workspace\\images\\collectedimages\\Penicillium\\6_penicillium_notatum.png -> Annotation:C:/Users/nadyu/PycharmProjects/mold_detector/tfod/Tensorflow/workspace/images/collectedimages/Penicillium\\6_penicillium_notatum.xml\n",
      "Image:C:\\Users\\nadyu\\PycharmProjects\\mold_detector\\tfod\\Tensorflow\\workspace\\images\\collectedimages\\Penicillium\\7_penicillium_roqueforti.jpg -> Annotation:C:/Users/nadyu/PycharmProjects/mold_detector/tfod/Tensorflow/workspace/images/collectedimages/Penicillium\\7_penicillium_roqueforti.xml\n",
      "Image:C:\\Users\\nadyu\\PycharmProjects\\mold_detector\\tfod\\Tensorflow\\workspace\\images\\collectedimages\\Penicillium\\8_penicillium_chrysogenum.jpg -> Annotation:C:/Users/nadyu/PycharmProjects/mold_detector/tfod/Tensorflow/workspace/images/collectedimages/Penicillium\\8_penicillium_chrysogenum.xml\n",
      "Image:C:\\Users\\nadyu\\PycharmProjects\\mold_detector\\tfod\\Tensorflow\\workspace\\images\\collectedimages\\Penicillium\\9_penicillium_expasum.png -> Annotation:C:/Users/nadyu/PycharmProjects/mold_detector/tfod/Tensorflow/workspace/images/collectedimages/Penicillium\\9_penicillium_expasum.xml\n",
      "Image:C:\\Users\\nadyu\\PycharmProjects\\mold_detector\\tfod\\Tensorflow\\workspace\\images\\collectedimages\\Penicillium\\10_penicillium_x.png -> Annotation:C:/Users/nadyu/PycharmProjects/mold_detector/tfod/Tensorflow/workspace/images/collectedimages/Penicillium\\10_penicillium_x.xml\n",
      "Image:C:\\Users\\nadyu\\PycharmProjects\\mold_detector\\tfod\\Tensorflow\\workspace\\images\\collectedimages\\Penicillium\\11_penicillium_digitatum.png -> Annotation:C:/Users/nadyu/PycharmProjects/mold_detector/tfod/Tensorflow/workspace/images/collectedimages/Penicillium\\11_penicillium_digitatum.xml\n",
      "Image:C:\\Users\\nadyu\\PycharmProjects\\mold_detector\\tfod\\Tensorflow\\workspace\\images\\collectedimages\\Penicillium\\12_penicillium_x.png -> Annotation:C:/Users/nadyu/PycharmProjects/mold_detector/tfod/Tensorflow/workspace/images/collectedimages/Penicillium\\12_penicillium_x.xml\n",
      "Image:C:\\Users\\nadyu\\PycharmProjects\\mold_detector\\tfod\\Tensorflow\\workspace\\images\\collectedimages\\Penicillium\\13_penicillium_expasum.png -> Annotation:C:/Users/nadyu/PycharmProjects/mold_detector/tfod/Tensorflow/workspace/images/collectedimages/Penicillium\\13_penicillium_expasum.xml\n",
      "Image:C:\\Users\\nadyu\\PycharmProjects\\mold_detector\\tfod\\Tensorflow\\workspace\\images\\collectedimages\\Penicillium\\14_penicillium_x.png -> Annotation:C:/Users/nadyu/PycharmProjects/mold_detector/tfod/Tensorflow/workspace/images/collectedimages/Penicillium\\14_penicillium_x.xml\n",
      "Image:C:\\Users\\nadyu\\PycharmProjects\\mold_detector\\tfod\\Tensorflow\\workspace\\images\\collectedimages\\Penicillium\\15_penicillium_roqueforti.jpg -> Annotation:C:/Users/nadyu/PycharmProjects/mold_detector/tfod/Tensorflow/workspace/images/collectedimages/Penicillium\\15_penicillium_roqueforti.xml\n",
      "Image:C:\\Users\\nadyu\\PycharmProjects\\mold_detector\\tfod\\Tensorflow\\workspace\\images\\collectedimages\\Penicillium\\16_penicillium_roqueforti.jpg -> Annotation:C:/Users/nadyu/PycharmProjects/mold_detector/tfod/Tensorflow/workspace/images/collectedimages/Penicillium\\16_penicillium_roqueforti.xml\n",
      "Image:C:\\Users\\nadyu\\PycharmProjects\\mold_detector\\tfod\\Tensorflow\\workspace\\images\\collectedimages\\Penicillium\\17_penicillium_x.png -> Annotation:C:/Users/nadyu/PycharmProjects/mold_detector/tfod/Tensorflow/workspace/images/collectedimages/Penicillium\\17_penicillium_x.xml\n",
      "Image:C:\\Users\\nadyu\\PycharmProjects\\mold_detector\\tfod\\Tensorflow\\workspace\\images\\collectedimages\\Penicillium\\18_penicillium_x.png -> Annotation:C:/Users/nadyu/PycharmProjects/mold_detector/tfod/Tensorflow/workspace/images/collectedimages/Penicillium\\18_penicillium_x.xml\n",
      "Image:C:\\Users\\nadyu\\PycharmProjects\\mold_detector\\tfod\\Tensorflow\\workspace\\images\\collectedimages\\Penicillium\\19_penicillium_x.png -> Annotation:C:/Users/nadyu/PycharmProjects/mold_detector/tfod/Tensorflow/workspace/images/collectedimages/Penicillium\\19_penicillium_x.xml\n",
      "Image:C:\\Users\\nadyu\\PycharmProjects\\mold_detector\\tfod\\Tensorflow\\workspace\\images\\collectedimages\\Penicillium\\20_penicillium_x.png -> Annotation:C:/Users/nadyu/PycharmProjects/mold_detector/tfod/Tensorflow/workspace/images/collectedimages/Penicillium\\20_penicillium_x.xml\n",
      "Image:C:\\Users\\nadyu\\PycharmProjects\\mold_detector\\tfod\\Tensorflow\\workspace\\images\\collectedimages\\Penicillium\\21_penicillium_x.jpg -> Annotation:C:/Users/nadyu/PycharmProjects/mold_detector/tfod/Tensorflow/workspace/images/collectedimages/Penicillium\\21_penicillium_x.xml\n",
      "Image:C:\\Users\\nadyu\\PycharmProjects\\mold_detector\\tfod\\Tensorflow\\workspace\\images\\collectedimages\\Rhizopus\\1_rhizopus_x.jpg -> Annotation:C:/Users/nadyu/PycharmProjects/mold_detector/tfod/Tensorflow/workspace/images/collectedimages/Rhizopus\\1_rhizopus_x.xml\n",
      "Image:C:\\Users\\nadyu\\PycharmProjects\\mold_detector\\tfod\\Tensorflow\\workspace\\images\\collectedimages\\Rhizopus\\1_rhizopus_x.jpg -> Annotation:C:/Users/nadyu/PycharmProjects/mold_detector/tfod/Tensorflow/workspace/images/collectedimages/Rhizopus\\1_rhizopus_x.xml\n",
      "Image:C:\\Users\\nadyu\\PycharmProjects\\mold_detector\\tfod\\Tensorflow\\workspace\\images\\collectedimages\\Stachybotrys\\1_stachybotrys_x.jpg -> Annotation:C:/Users/nadyu/PycharmProjects/mold_detector/tfod/Tensorflow/workspace/images/collectedimages/Stachybotrys\\1_stachybotrys_x.xml\n",
      "Image:C:\\Users\\nadyu\\PycharmProjects\\mold_detector\\tfod\\Tensorflow\\workspace\\images\\collectedimages\\Trichoderma\\1_trichoderma_x.jpg -> Annotation:C:/Users/nadyu/PycharmProjects/mold_detector/tfod/Tensorflow/workspace/images/collectedimages/Trichoderma\\1_trichoderma_x.xml\n",
      "Image:C:\\Users\\nadyu\\PycharmProjects\\mold_detector\\tfod\\Tensorflow\\workspace\\images\\collectedimages\\Trichoderma\\2_trichoderma_x.jpg -> Annotation:C:/Users/nadyu/PycharmProjects/mold_detector/tfod/Tensorflow/workspace/images/collectedimages/Trichoderma\\2_trichoderma_x.xml\n",
      "Image:C:\\Users\\nadyu\\PycharmProjects\\mold_detector\\tfod\\Tensorflow\\workspace\\images\\collectedimages\\Trichoderma\\3_trichoderma_x.jpg -> Annotation:C:/Users/nadyu/PycharmProjects/mold_detector/tfod/Tensorflow/workspace/images/collectedimages/Trichoderma\\3_trichoderma_x.xml\n",
      "Image:C:\\Users\\nadyu\\PycharmProjects\\mold_detector\\tfod\\Tensorflow\\workspace\\images\\collectedimages\\Trichoderma\\4_trichoderma_harzianum.jpg -> Annotation:C:/Users/nadyu/PycharmProjects/mold_detector/tfod/Tensorflow/workspace/images/collectedimages/Trichoderma\\4_trichoderma_harzianum.xml\n",
      "Image:C:\\Users\\nadyu\\PycharmProjects\\mold_detector\\tfod\\Tensorflow\\workspace\\images\\collectedimages\\Trichoderma\\5_trichoderma_harzianum.jpg -> Annotation:C:/Users/nadyu/PycharmProjects/mold_detector/tfod/Tensorflow/workspace/images/collectedimages/Trichoderma\\5_trichoderma_harzianum.xml\n",
      "Image:C:\\Users\\nadyu\\PycharmProjects\\mold_detector\\tfod\\Tensorflow\\workspace\\images\\collectedimages\\Trichoderma\\6_trichoderma_harzianum.jpg -> Annotation:C:/Users/nadyu/PycharmProjects/mold_detector/tfod/Tensorflow/workspace/images/collectedimages/Trichoderma\\6_trichoderma_harzianum.xml\n",
      "Image:C:\\Users\\nadyu\\PycharmProjects\\mold_detector\\tfod\\Tensorflow\\workspace\\images\\collectedimages\\Trichoderma\\7_trichoderma_harzianum.jpg -> Annotation:C:/Users/nadyu/PycharmProjects/mold_detector/tfod/Tensorflow/workspace/images/collectedimages/Trichoderma\\7_trichoderma_harzianum.xml\n",
      "Image:C:\\Users\\nadyu\\PycharmProjects\\mold_detector\\tfod\\Tensorflow\\workspace\\images\\collectedimages\\Trichoderma\\8_trichoderma_hamatum.jpg -> Annotation:C:/Users/nadyu/PycharmProjects/mold_detector/tfod/Tensorflow/workspace/images/collectedimages/Trichoderma\\8_trichoderma_hamatum.xml\n",
      "Image:C:\\Users\\nadyu\\PycharmProjects\\mold_detector\\tfod\\Tensorflow\\workspace\\images\\collectedimages\\Trichoderma\\9_trichoderma_hamatum.jpg -> Annotation:C:/Users/nadyu/PycharmProjects/mold_detector/tfod/Tensorflow/workspace/images/collectedimages/Trichoderma\\9_trichoderma_hamatum.xml\n",
      "Image:C:\\Users\\nadyu\\PycharmProjects\\mold_detector\\tfod\\Tensorflow\\workspace\\images\\collectedimages\\Trichoderma\\10_trichoderma_x.jpg -> Annotation:C:/Users/nadyu/PycharmProjects/mold_detector/tfod/Tensorflow/workspace/images/collectedimages/Trichoderma\\10_trichoderma_x.xml\n",
      "Image:C:\\Users\\nadyu\\PycharmProjects\\mold_detector\\tfod\\Tensorflow\\workspace\\images\\collectedimages\\Trichoderma\\11_trichoderma_x.jpg -> Annotation:C:/Users/nadyu/PycharmProjects/mold_detector/tfod/Tensorflow/workspace/images/collectedimages/Trichoderma\\11_trichoderma_x.xml\n",
      "Image:C:\\Users\\nadyu\\PycharmProjects\\mold_detector\\tfod\\Tensorflow\\workspace\\images\\collectedimages\\Trichoderma\\12_trichoderma_x.jpg -> Annotation:C:/Users/nadyu/PycharmProjects/mold_detector/tfod/Tensorflow/workspace/images/collectedimages/Trichoderma\\12_trichoderma_x.xml\n",
      "Image:C:\\Users\\nadyu\\PycharmProjects\\mold_detector\\tfod\\Tensorflow\\workspace\\images\\collectedimages\\Trichoderma\\13_trichoderma_x.jpg -> Annotation:C:/Users/nadyu/PycharmProjects/mold_detector/tfod/Tensorflow/workspace/images/collectedimages/Trichoderma\\13_trichoderma_x.xml\n",
      "Image:C:\\Users\\nadyu\\PycharmProjects\\mold_detector\\tfod\\Tensorflow\\workspace\\images\\collectedimages\\Trichoderma\\14_trichoderma_x.jpg -> Annotation:C:/Users/nadyu/PycharmProjects/mold_detector/tfod/Tensorflow/workspace/images/collectedimages/Trichoderma\\14_trichoderma_x.xml\n",
      "Image:C:\\Users\\nadyu\\PycharmProjects\\mold_detector\\tfod\\Tensorflow\\workspace\\images\\collectedimages\\Trichoderma\\16_trichoderma_hamatum.jpg -> Annotation:C:/Users/nadyu/PycharmProjects/mold_detector/tfod/Tensorflow/workspace/images/collectedimages/Trichoderma\\16_trichoderma_hamatum.xml\n",
      "Image:C:\\Users\\nadyu\\PycharmProjects\\mold_detector\\tfod\\Tensorflow\\workspace\\images\\collectedimages\\Trichoderma\\17_trichoderma_x.jpg -> Annotation:C:/Users/nadyu/PycharmProjects/mold_detector/tfod/Tensorflow/workspace/images/collectedimages/Trichoderma\\17_trichoderma_x.xml\n",
      "Image:C:\\Users\\nadyu\\PycharmProjects\\mold_detector\\tfod\\Tensorflow\\workspace\\images\\collectedimages\\Trichoderma\\18_trichoderma_hamatum.jpg -> Annotation:C:/Users/nadyu/PycharmProjects/mold_detector/tfod/Tensorflow/workspace/images/collectedimages/Trichoderma\\18_trichoderma_hamatum.xml\n",
      "Image:C:\\Users\\nadyu\\PycharmProjects\\mold_detector\\tfod\\Tensorflow\\workspace\\images\\collectedimages\\Trichoderma\\19_trichoderma_x.jpg -> Annotation:C:/Users/nadyu/PycharmProjects/mold_detector/tfod/Tensorflow/workspace/images/collectedimages/Trichoderma\\19_trichoderma_x.xml\n",
      "Image:C:\\Users\\nadyu\\PycharmProjects\\mold_detector\\tfod\\Tensorflow\\workspace\\images\\collectedimages\\Trichoderma\\20_trichoderma_x.jpg -> Annotation:C:/Users/nadyu/PycharmProjects/mold_detector/tfod/Tensorflow/workspace/images/collectedimages/Trichoderma\\20_trichoderma_x.xml\n",
      "Image:C:\\Users\\nadyu\\PycharmProjects\\mold_detector\\tfod\\Tensorflow\\workspace\\images\\collectedimages\\Trichoderma\\158_trichoderma_x.jpg -> Annotation:C:/Users/nadyu/PycharmProjects/mold_detector/tfod/Tensorflow/workspace/images/collectedimages/Trichoderma\\158_trichoderma_x.xml\n",
      "Image:C:\\Users\\nadyu\\PycharmProjects\\mold_detector\\tfod\\Tensorflow\\workspace\\images\\collectedimages\\Trichophyton\\1_trichophyton_x.jpg -> Annotation:C:/Users/nadyu/PycharmProjects/mold_detector/tfod/Tensorflow/workspace/images/collectedimages/Trichophyton\\1_trichophyton_x.xml\n",
      "Image:C:\\Users\\nadyu\\PycharmProjects\\mold_detector\\tfod\\Tensorflow\\workspace\\images\\collectedimages\\Trichophyton\\1_trichophyton_x.jpg -> Annotation:C:/Users/nadyu/PycharmProjects/mold_detector/tfod/Tensorflow/workspace/images/collectedimages/Trichophyton\\1_trichophyton_x.xml\n",
      "Image:C:\\Users\\nadyu\\PycharmProjects\\mold_detector\\tfod\\Tensorflow\\workspace\\images\\collectedimages\\Trichophyton\\2_Trichophyton_rubrums.jpg -> Annotation:C:/Users/nadyu/PycharmProjects/mold_detector/tfod/Tensorflow/workspace/images/collectedimages/Trichophyton\\2_Trichophyton_rubrums.xml\n",
      "Image:C:\\Users\\nadyu\\PycharmProjects\\mold_detector\\tfod\\Tensorflow\\workspace\\images\\collectedimages\\Trichophyton\\3_trichophyton_rubrum.jpg -> Annotation:C:/Users/nadyu/PycharmProjects/mold_detector/tfod/Tensorflow/workspace/images/collectedimages/Trichophyton\\3_trichophyton_rubrum.xml\n",
      "Image:C:\\Users\\nadyu\\PycharmProjects\\mold_detector\\tfod\\Tensorflow\\workspace\\images\\collectedimages\\Trichophyton\\4_trichophyton_rubrum.jpg -> Annotation:C:/Users/nadyu/PycharmProjects/mold_detector/tfod/Tensorflow/workspace/images/collectedimages/Trichophyton\\4_trichophyton_rubrum.xml\n",
      "Image:C:\\Users\\nadyu\\PycharmProjects\\mold_detector\\tfod\\Tensorflow\\workspace\\images\\collectedimages\\Trichophyton\\5_trichophyton_equinum.jpg -> Annotation:C:/Users/nadyu/PycharmProjects/mold_detector/tfod/Tensorflow/workspace/images/collectedimages/Trichophyton\\5_trichophyton_equinum.xml\n",
      "Image:C:\\Users\\nadyu\\PycharmProjects\\mold_detector\\tfod\\Tensorflow\\workspace\\images\\collectedimages\\Trichophyton\\6_trichophyton_equinum.jpg -> Annotation:C:/Users/nadyu/PycharmProjects/mold_detector/tfod/Tensorflow/workspace/images/collectedimages/Trichophyton\\6_trichophyton_equinum.xml\n",
      "Image:C:\\Users\\nadyu\\PycharmProjects\\mold_detector\\tfod\\Tensorflow\\workspace\\images\\collectedimages\\Trichophyton\\7_trichophyton_equinum.jpg -> Annotation:C:/Users/nadyu/PycharmProjects/mold_detector/tfod/Tensorflow/workspace/images/collectedimages/Trichophyton\\7_trichophyton_equinum.xml\n",
      "Image:C:\\Users\\nadyu\\PycharmProjects\\mold_detector\\tfod\\Tensorflow\\workspace\\images\\collectedimages\\Trichophyton\\8_trichophyton_equinum.jpg -> Annotation:C:/Users/nadyu/PycharmProjects/mold_detector/tfod/Tensorflow/workspace/images/collectedimages/Trichophyton\\8_trichophyton_equinum.xml\n",
      "Image:C:\\Users\\nadyu\\PycharmProjects\\mold_detector\\tfod\\Tensorflow\\workspace\\images\\collectedimages\\Trichophyton\\9_trichophyton_tonsurans.jpg -> Annotation:C:/Users/nadyu/PycharmProjects/mold_detector/tfod/Tensorflow/workspace/images/collectedimages/Trichophyton\\9_trichophyton_tonsurans.xml\n",
      "Image:C:\\Users\\nadyu\\PycharmProjects\\mold_detector\\tfod\\Tensorflow\\workspace\\images\\collectedimages\\Trichophyton\\10_trichophyton_tonsurans.jpg -> Annotation:C:/Users/nadyu/PycharmProjects/mold_detector/tfod/Tensorflow/workspace/images/collectedimages/Trichophyton\\10_trichophyton_tonsurans.xml\n",
      "Image:C:\\Users\\nadyu\\PycharmProjects\\mold_detector\\tfod\\Tensorflow\\workspace\\images\\collectedimages\\Trichophyton\\11_trichophyton_tonsurans.jpg -> Annotation:C:/Users/nadyu/PycharmProjects/mold_detector/tfod/Tensorflow/workspace/images/collectedimages/Trichophyton\\11_trichophyton_tonsurans.xml\n",
      "Image:C:\\Users\\nadyu\\PycharmProjects\\mold_detector\\tfod\\Tensorflow\\workspace\\images\\collectedimages\\Trichophyton\\12_trichophyton_tonsurans.jpg -> Annotation:C:/Users/nadyu/PycharmProjects/mold_detector/tfod/Tensorflow/workspace/images/collectedimages/Trichophyton\\12_trichophyton_tonsurans.xml\n",
      "Image:C:\\Users\\nadyu\\PycharmProjects\\mold_detector\\tfod\\Tensorflow\\workspace\\images\\collectedimages\\Trichophyton\\13_trichophyton_tonsurans.jpg -> Annotation:C:/Users/nadyu/PycharmProjects/mold_detector/tfod/Tensorflow/workspace/images/collectedimages/Trichophyton\\13_trichophyton_tonsurans.xml\n",
      "Image:C:\\Users\\nadyu\\PycharmProjects\\mold_detector\\tfod\\Tensorflow\\workspace\\images\\collectedimages\\Trichophyton\\14_trichophyton_tonsurans.jpg -> Annotation:C:/Users/nadyu/PycharmProjects/mold_detector/tfod/Tensorflow/workspace/images/collectedimages/Trichophyton\\14_trichophyton_tonsurans.xml\n",
      "Image:C:\\Users\\nadyu\\PycharmProjects\\mold_detector\\tfod\\Tensorflow\\workspace\\images\\collectedimages\\Trichophyton\\15_trichophyton_tonsurans.jpg -> Annotation:C:/Users/nadyu/PycharmProjects/mold_detector/tfod/Tensorflow/workspace/images/collectedimages/Trichophyton\\15_trichophyton_tonsurans.xml\n",
      "Image:C:\\Users\\nadyu\\PycharmProjects\\mold_detector\\tfod\\Tensorflow\\workspace\\images\\collectedimages\\Trichophyton\\16_trichophyton_tonsurans.jpg -> Annotation:C:/Users/nadyu/PycharmProjects/mold_detector/tfod/Tensorflow/workspace/images/collectedimages/Trichophyton\\16_trichophyton_tonsurans.xml\n",
      "Image:C:\\Users\\nadyu\\PycharmProjects\\mold_detector\\tfod\\Tensorflow\\workspace\\images\\collectedimages\\Trichophyton\\17_trichophyton_tonsurans.jpg -> Annotation:C:/Users/nadyu/PycharmProjects/mold_detector/tfod/Tensorflow/workspace/images/collectedimages/Trichophyton\\17_trichophyton_tonsurans.xml\n",
      "Image:C:\\Users\\nadyu\\PycharmProjects\\mold_detector\\tfod\\Tensorflow\\workspace\\images\\collectedimages\\Trichophyton\\18_trichophyton_tonsurans.jpg -> Annotation:C:/Users/nadyu/PycharmProjects/mold_detector/tfod/Tensorflow/workspace/images/collectedimages/Trichophyton\\18_trichophyton_tonsurans.xml\n",
      "Image:C:\\Users\\nadyu\\PycharmProjects\\mold_detector\\tfod\\Tensorflow\\workspace\\images\\collectedimages\\Trichophyton\\19_trichophyton_rubrum.jpg -> Annotation:C:/Users/nadyu/PycharmProjects/mold_detector/tfod/Tensorflow/workspace/images/collectedimages/Trichophyton\\19_trichophyton_rubrum.xml\n",
      "Image:C:\\Users\\nadyu\\PycharmProjects\\mold_detector\\tfod\\Tensorflow\\workspace\\images\\collectedimages\\Trichophyton\\20_trichophyton_mentagrophytes.jpg -> Annotation:C:/Users/nadyu/PycharmProjects/mold_detector/tfod/Tensorflow/workspace/images/collectedimages/Trichophyton\\20_trichophyton_mentagrophytes.xml\n"
     ]
    },
    {
     "name": "stderr",
     "output_type": "stream",
     "text": [
      "qt.gui.icc: fromIccProfile: failed minimal tag size sanity\n"
     ]
    }
   ],
   "source": [
    "!cd {LABELIMG_PATH} && python labelImg.py"
   ]
  },
  {
   "cell_type": "code",
   "execution_count": null,
   "id": "1b7c3789",
   "metadata": {},
   "outputs": [],
   "source": []
  }
 ],
 "metadata": {
  "kernelspec": {
   "display_name": "tfod",
   "language": "python",
   "name": "tfod"
  },
  "language_info": {
   "codemirror_mode": {
    "name": "ipython",
    "version": 3
   },
   "file_extension": ".py",
   "mimetype": "text/x-python",
   "name": "python",
   "nbconvert_exporter": "python",
   "pygments_lexer": "ipython3",
   "version": "3.9.12"
  }
 },
 "nbformat": 4,
 "nbformat_minor": 5
}
